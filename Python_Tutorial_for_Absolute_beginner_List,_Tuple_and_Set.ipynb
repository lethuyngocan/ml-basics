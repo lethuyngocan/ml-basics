{
  "nbformat": 4,
  "nbformat_minor": 0,
  "metadata": {
    "colab": {
      "provenance": [],
      "authorship_tag": "ABX9TyOkEkfOktiE7DjeZ5orpEoC",
      "include_colab_link": true
    },
    "kernelspec": {
      "name": "python3",
      "display_name": "Python 3"
    },
    "language_info": {
      "name": "python"
    }
  },
  "cells": [
    {
      "cell_type": "markdown",
      "metadata": {
        "id": "view-in-github",
        "colab_type": "text"
      },
      "source": [
        "<a href=\"https://colab.research.google.com/github/lethuyngocan/ml-basics/blob/master/Python_Tutorial_for_Absolute_beginner_List%2C_Tuple_and_Set.ipynb\" target=\"_parent\"><img src=\"https://colab.research.google.com/assets/colab-badge.svg\" alt=\"Open In Colab\"/></a>"
      ]
    },
    {
      "cell_type": "markdown",
      "source": [
        "## **LIST, TUPLE AND SETS:**\n",
        "In Python, there are several built-in data structures to store collections of values. Three commonly used data structures are lists, tuples, and sets. Let's explore each of them in more detail:"
      ],
      "metadata": {
        "id": "_DPnjla0UzWq"
      }
    },
    {
      "cell_type": "markdown",
      "source": [
        "# **1. LIST**\n",
        "\n",
        "\n",
        "*   Lists are ordered and mutable collections of items enclosed in square brackets [].\n",
        "*   They can contain elements of different data types, such as integers, strings, or even other lists.\n",
        "\n",
        "for example: \n",
        "\n",
        "\n",
        "\n"
      ],
      "metadata": {
        "id": "dAskgpeZU-eZ"
      }
    },
    {
      "cell_type": "code",
      "source": [
        "my_list=[1,2,'a','b',[3,4]]"
      ],
      "metadata": {
        "id": "W5yExqjvVc4f"
      },
      "execution_count": null,
      "outputs": []
    },
    {
      "cell_type": "code",
      "source": [],
      "metadata": {
        "id": "5AvSe5s7Vmqf"
      },
      "execution_count": null,
      "outputs": []
    },
    {
      "cell_type": "markdown",
      "source": [
        "Now, let's go to practice some important functionality of list.\n",
        "\n",
        "First, I create a list of my favorite foods."
      ],
      "metadata": {
        "id": "NE9WWgOBXMwl"
      }
    },
    {
      "cell_type": "code",
      "source": [
        "fav_food=['pho','sushi','sashimi','spaghetti','Paella']"
      ],
      "metadata": {
        "id": "J991SmfcXjdy"
      },
      "execution_count": null,
      "outputs": []
    },
    {
      "cell_type": "code",
      "source": [
        "#print out the entire list:\n",
        "print(fav_food)"
      ],
      "metadata": {
        "colab": {
          "base_uri": "https://localhost:8080/"
        },
        "id": "NLlQkY57Y0TN",
        "outputId": "bd851052-1bc3-4afb-ff2a-8cefe6354008"
      },
      "execution_count": null,
      "outputs": [
        {
          "output_type": "stream",
          "name": "stdout",
          "text": [
            "['pho', 'sushi', 'sashimi', 'spaghetti', 'Paella']\n"
          ]
        }
      ]
    },
    {
      "cell_type": "code",
      "source": [
        "# to know how many element in the list:\n",
        "print(len(fav_food))"
      ],
      "metadata": {
        "colab": {
          "base_uri": "https://localhost:8080/"
        },
        "id": "ulhy2T93Y67T",
        "outputId": "a5150b5e-1106-4635-ab0c-7775d67e696e"
      },
      "execution_count": null,
      "outputs": [
        {
          "output_type": "stream",
          "name": "stdout",
          "text": [
            "5\n"
          ]
        }
      ]
    },
    {
      "cell_type": "markdown",
      "source": [
        "We also can access the value of each element individually. We can use the square bracket after our list and past in the location of the value of we want. This location is called index and it started with 0.\n",
        "\n",
        "For example we would like to access the first value, what we'll do is:\n"
      ],
      "metadata": {
        "id": "8G0RFqrwZ8sF"
      }
    },
    {
      "cell_type": "markdown",
      "source": [
        "# a) Access item in the list:"
      ],
      "metadata": {
        "id": "7QTcsYpic7zS"
      }
    },
    {
      "cell_type": "code",
      "source": [
        "print(fav_food[0])"
      ],
      "metadata": {
        "colab": {
          "base_uri": "https://localhost:8080/"
        },
        "id": "Gfh4Yt4FaBBg",
        "outputId": "f6228fbc-8a80-4ce8-edc7-9e33acd8baa2"
      },
      "execution_count": null,
      "outputs": [
        {
          "output_type": "stream",
          "name": "stdout",
          "text": [
            "pho\n"
          ]
        }
      ]
    },
    {
      "cell_type": "markdown",
      "source": [],
      "metadata": {
        "id": "_nnoGqj5dBOl"
      }
    },
    {
      "cell_type": "code",
      "source": [],
      "metadata": {
        "id": "2OOzNkCOaFkS"
      },
      "execution_count": null,
      "outputs": []
    },
    {
      "cell_type": "markdown",
      "source": [
        "Now if we want to access the last value in the list there are two way to do it:"
      ],
      "metadata": {
        "id": "GEBhSSIPaMkA"
      }
    },
    {
      "cell_type": "code",
      "source": [
        "print(fav_food[4])"
      ],
      "metadata": {
        "colab": {
          "base_uri": "https://localhost:8080/"
        },
        "id": "IbcGqSc-aWwS",
        "outputId": "55613524-e7cb-4a3a-de78-b070165b5f18"
      },
      "execution_count": null,
      "outputs": [
        {
          "output_type": "stream",
          "name": "stdout",
          "text": [
            "Paella\n"
          ]
        }
      ]
    },
    {
      "cell_type": "code",
      "source": [
        "#or"
      ],
      "metadata": {
        "id": "kZoGeijnabys"
      },
      "execution_count": null,
      "outputs": []
    },
    {
      "cell_type": "code",
      "source": [
        "print(fav_food[-1])"
      ],
      "metadata": {
        "colab": {
          "base_uri": "https://localhost:8080/"
        },
        "id": "UPoGDIksadce",
        "outputId": "84d85529-d806-4711-b8be-2887fb42c6e4"
      },
      "execution_count": null,
      "outputs": [
        {
          "output_type": "stream",
          "name": "stdout",
          "text": [
            "Paella\n"
          ]
        }
      ]
    },
    {
      "cell_type": "markdown",
      "source": [
        "It's more conveient a lot of the time using negative 1 to get the last item because we dont have to worry what the length of the list  "
      ],
      "metadata": {
        "id": "9Pts9mBWascd"
      }
    },
    {
      "cell_type": "markdown",
      "source": [
        "**We also can access a range of value. **\n",
        "\n",
        "if we want to grab the 2 value sushi and sashimi in the list then what we do is we start access the index 1 and and not include index 3:"
      ],
      "metadata": {
        "id": "KvUJUb_lbROw"
      }
    },
    {
      "cell_type": "code",
      "source": [
        "print(fav_food[1:3]) # the first index is inclusive, the last index is exclusive"
      ],
      "metadata": {
        "colab": {
          "base_uri": "https://localhost:8080/"
        },
        "id": "9u6sJXUhbzhT",
        "outputId": "6eb45476-cb38-4b5b-9660-c0a5b3b18ffb"
      },
      "execution_count": null,
      "outputs": [
        {
          "output_type": "stream",
          "name": "stdout",
          "text": [
            "['sushi', 'sashimi']\n"
          ]
        }
      ]
    },
    {
      "cell_type": "code",
      "source": [],
      "metadata": {
        "id": "dNwVJFeOb-rd"
      },
      "execution_count": null,
      "outputs": []
    },
    {
      "cell_type": "markdown",
      "source": [
        "# **b) Add items to the list:** "
      ],
      "metadata": {
        "id": "-yXpoXkvdDNq"
      }
    },
    {
      "cell_type": "markdown",
      "source": [
        "If we want to add item to the end of the list, we can use the append method. \n",
        "\n",
        "For example we would like to add Bibimbap to the list."
      ],
      "metadata": {
        "id": "p_g2HfVadUUT"
      }
    },
    {
      "cell_type": "code",
      "source": [
        "fav_food=['pho','sushi','sashimi','spaghetti','Paella']\n",
        "fav_food.append('bimbimbap')\n",
        "\n",
        "print(fav_food)"
      ],
      "metadata": {
        "colab": {
          "base_uri": "https://localhost:8080/"
        },
        "id": "PbrNviqJday6",
        "outputId": "30551f2b-e02e-4dcd-b828-fd2da1a95fd2"
      },
      "execution_count": null,
      "outputs": [
        {
          "output_type": "stream",
          "name": "stdout",
          "text": [
            "['pho', 'sushi', 'sashimi', 'spaghetti', 'Paella', 'bimbimbap']\n"
          ]
        }
      ]
    },
    {
      "cell_type": "markdown",
      "source": [
        "We can see bimbimbap is in the end of the list now.\n",
        "If we want to add bimbimbap to specific location of the list, for example we want it locates after sashimi so instead we can use the **insert method**"
      ],
      "metadata": {
        "id": "CD1Gca7reE3_"
      }
    },
    {
      "cell_type": "code",
      "source": [
        "fav_food=['pho','sushi','sashimi','spaghetti','Paella']\n",
        "fav_food.insert(3,'bimbimbap') # insert location first and then value\n",
        "\n",
        "print(fav_food)"
      ],
      "metadata": {
        "colab": {
          "base_uri": "https://localhost:8080/"
        },
        "id": "lW_C73Umed8a",
        "outputId": "98c75ffc-abf0-44f0-cf22-797129314d55"
      },
      "execution_count": null,
      "outputs": [
        {
          "output_type": "stream",
          "name": "stdout",
          "text": [
            "['pho', 'sushi', 'sashimi', 'bimbimbap', 'spaghetti', 'Paella']\n"
          ]
        }
      ]
    },
    {
      "cell_type": "markdown",
      "source": [
        "We also can use **extend method** to add values to the list. We use **extend method** when we would like to add multiple values to the list. \n",
        "\n",
        "Let's say we have another list of favorite food and we want to add the value from new list to the original list."
      ],
      "metadata": {
        "id": "JgR-AcPBhpQf"
      }
    },
    {
      "cell_type": "code",
      "source": [
        "fav_food= ['pho','sushi','sashimi','spaghetti','Paella']\n",
        "fav_food1=['hambuger','spring roll','wonton soup']\n",
        "\n",
        "fav_food.extend(fav_food1)\n",
        "\n",
        "print(fav_food)"
      ],
      "metadata": {
        "colab": {
          "base_uri": "https://localhost:8080/"
        },
        "id": "h8LUP-b_iP1t",
        "outputId": "d45b0fb6-c396-4d6c-f6aa-3d742f95ddd8"
      },
      "execution_count": null,
      "outputs": [
        {
          "output_type": "stream",
          "name": "stdout",
          "text": [
            "['pho', 'sushi', 'sashimi', 'spaghetti', 'Paella', 'hambuger', 'spring roll', 'wonton soup']\n"
          ]
        }
      ]
    },
    {
      "cell_type": "code",
      "source": [],
      "metadata": {
        "id": "v8IYKD1ai5p9"
      },
      "execution_count": null,
      "outputs": []
    },
    {
      "cell_type": "markdown",
      "source": [
        "# **c)Remove Value from the list**"
      ],
      "metadata": {
        "id": "nOIvsn9NjG4N"
      }
    },
    {
      "cell_type": "markdown",
      "source": [
        "Remove with **remove method**:"
      ],
      "metadata": {
        "id": "i55fqPkrjUpK"
      }
    },
    {
      "cell_type": "code",
      "source": [
        "fav_food= ['pho','sushi','sashimi','spaghetti','Paella']\n",
        "fav_food.remove('Paella') # remove paella from the list\n",
        "\n",
        "print(fav_food)"
      ],
      "metadata": {
        "colab": {
          "base_uri": "https://localhost:8080/"
        },
        "id": "lA_Fw4aPjbD-",
        "outputId": "40fb8418-f370-4258-9484-d21dda108f6a"
      },
      "execution_count": null,
      "outputs": [
        {
          "output_type": "stream",
          "name": "stdout",
          "text": [
            "['pho', 'sushi', 'sashimi', 'spaghetti']\n"
          ]
        }
      ]
    },
    {
      "cell_type": "code",
      "source": [],
      "metadata": {
        "id": "dK7lWVIwjpny"
      },
      "execution_count": null,
      "outputs": []
    },
    {
      "cell_type": "markdown",
      "source": [
        "Remove with **pop method**: it will remove the last value from the list"
      ],
      "metadata": {
        "id": "nzSMNZq8j9VL"
      }
    },
    {
      "cell_type": "code",
      "source": [
        "fav_food= ['pho','sushi','sashimi','spaghetti','Paella']\n",
        "fav_food.pop() \n",
        "\n",
        "print(fav_food)"
      ],
      "metadata": {
        "colab": {
          "base_uri": "https://localhost:8080/"
        },
        "id": "wyf5rGAFkCkb",
        "outputId": "ffae9b3b-1c53-485b-cdb3-2df60c64ec4c"
      },
      "execution_count": null,
      "outputs": [
        {
          "output_type": "stream",
          "name": "stdout",
          "text": [
            "['pho', 'sushi', 'sashimi', 'spaghetti']\n"
          ]
        }
      ]
    },
    {
      "cell_type": "markdown",
      "source": [
        "# **d) Sort List**"
      ],
      "metadata": {
        "id": "z6zCXJz5kip_"
      }
    },
    {
      "cell_type": "markdown",
      "source": [
        "**Sort list in reverse order:**"
      ],
      "metadata": {
        "id": "PpwLOmDFnbw7"
      }
    },
    {
      "cell_type": "code",
      "source": [
        "fav_food= ['pho','sushi','sashimi','spaghetti','Paella']\n",
        "fav_food.reverse()\n",
        "\n",
        "print(fav_food)"
      ],
      "metadata": {
        "colab": {
          "base_uri": "https://localhost:8080/"
        },
        "id": "ae-6PiIcndwG",
        "outputId": "2b55db5f-7b70-48da-dbe9-1395bcf6a08e"
      },
      "execution_count": null,
      "outputs": [
        {
          "output_type": "stream",
          "name": "stdout",
          "text": [
            "['Paella', 'spaghetti', 'sashimi', 'sushi', 'pho']\n"
          ]
        }
      ]
    },
    {
      "cell_type": "markdown",
      "source": [
        "**Sort list in ascending order:**"
      ],
      "metadata": {
        "id": "eo4pMhgjoGAw"
      }
    },
    {
      "cell_type": "code",
      "source": [
        "fav_food= ['pho','sushi','sashimi','spaghetti','Paella']\n",
        "fav_food.sort()\n",
        "\n",
        "print(fav_food)"
      ],
      "metadata": {
        "colab": {
          "base_uri": "https://localhost:8080/"
        },
        "id": "drzljpuqnmwq",
        "outputId": "da54ab04-a139-4179-a5e1-9fa9d8fcd130"
      },
      "execution_count": null,
      "outputs": [
        {
          "output_type": "stream",
          "name": "stdout",
          "text": [
            "['Paella', 'pho', 'sashimi', 'spaghetti', 'sushi']\n"
          ]
        }
      ]
    },
    {
      "cell_type": "code",
      "source": [
        "number=[7,1,6,2,8,9]\n",
        "number.sort()\n",
        "\n",
        "print(number)"
      ],
      "metadata": {
        "colab": {
          "base_uri": "https://localhost:8080/"
        },
        "id": "7JiMkRE2oRJX",
        "outputId": "c9cffc99-2209-4084-fdf2-b1237aeafecb"
      },
      "execution_count": null,
      "outputs": [
        {
          "output_type": "stream",
          "name": "stdout",
          "text": [
            "[1, 2, 6, 7, 8, 9]\n"
          ]
        }
      ]
    },
    {
      "cell_type": "markdown",
      "source": [
        "**Sort list in descending order**:"
      ],
      "metadata": {
        "id": "6BjqWFS7opbx"
      }
    },
    {
      "cell_type": "code",
      "source": [
        "fav_food= ['pho','sushi','sashimi','spaghetti','Paella']\n",
        "fav_food.sort(reverse=True)\n",
        "\n",
        "print(fav_food)"
      ],
      "metadata": {
        "colab": {
          "base_uri": "https://localhost:8080/"
        },
        "id": "z_WwtWISohQ8",
        "outputId": "306aa3f9-89a0-4e8c-890f-7e8d0712b983"
      },
      "execution_count": null,
      "outputs": [
        {
          "output_type": "stream",
          "name": "stdout",
          "text": [
            "['sushi', 'spaghetti', 'sashimi', 'pho', 'Paella']\n"
          ]
        }
      ]
    },
    {
      "cell_type": "code",
      "source": [
        "number=[7,1,6,2,8,9]\n",
        "number.sort(reverse=True)\n",
        "\n",
        "print(number)"
      ],
      "metadata": {
        "colab": {
          "base_uri": "https://localhost:8080/"
        },
        "id": "2zhWuXNWpDIs",
        "outputId": "e77aeb23-81ba-477b-f142-3f4264b73819"
      },
      "execution_count": null,
      "outputs": [
        {
          "output_type": "stream",
          "name": "stdout",
          "text": [
            "[9, 8, 7, 6, 2, 1]\n"
          ]
        }
      ]
    },
    {
      "cell_type": "markdown",
      "source": [
        "**Min,Max,Sum**"
      ],
      "metadata": {
        "id": "CoRCUs9ZqBkc"
      }
    },
    {
      "cell_type": "code",
      "source": [
        "number=[7,1,6,2,8,9]\n",
        "\n",
        "print(min(number))"
      ],
      "metadata": {
        "colab": {
          "base_uri": "https://localhost:8080/"
        },
        "id": "sS2tV6B7qGjO",
        "outputId": "7cf636c4-6116-4273-f382-f5e2fcb1ace0"
      },
      "execution_count": null,
      "outputs": [
        {
          "output_type": "stream",
          "name": "stdout",
          "text": [
            "1\n"
          ]
        }
      ]
    },
    {
      "cell_type": "code",
      "source": [
        "number=[7,1,6,2,8,9]\n",
        "\n",
        "print(max(number))"
      ],
      "metadata": {
        "colab": {
          "base_uri": "https://localhost:8080/"
        },
        "id": "yOS0cDiFqMWJ",
        "outputId": "59fbdaa4-484d-4289-f34e-8bd3b22c4c53"
      },
      "execution_count": null,
      "outputs": [
        {
          "output_type": "stream",
          "name": "stdout",
          "text": [
            "9\n"
          ]
        }
      ]
    },
    {
      "cell_type": "code",
      "source": [
        "number=[7,1,6,2,8,9]\n",
        "\n",
        "print(sum(number))"
      ],
      "metadata": {
        "colab": {
          "base_uri": "https://localhost:8080/"
        },
        "id": "PxuzwxAsqZve",
        "outputId": "2915b569-d217-4041-b21c-3f0f389634a3"
      },
      "execution_count": null,
      "outputs": [
        {
          "output_type": "stream",
          "name": "stdout",
          "text": [
            "33\n"
          ]
        }
      ]
    },
    {
      "cell_type": "markdown",
      "source": [
        "# **f) Transform list to string**\n",
        " let's say we want to turn our list of courses into the string of comma separated values:"
      ],
      "metadata": {
        "id": "2zlqpZyUuIqS"
      }
    },
    {
      "cell_type": "code",
      "source": [
        "fav_food= ['pho','sushi','sashimi','spaghetti','Paella']\n",
        "fav_food_str= ','.join(fav_food)\n",
        "\n",
        "print(fav_food_str)"
      ],
      "metadata": {
        "colab": {
          "base_uri": "https://localhost:8080/"
        },
        "id": "3fyVRWVkuNuG",
        "outputId": "7d9fa457-322f-48d0-8465-89b5508c5682"
      },
      "execution_count": null,
      "outputs": [
        {
          "output_type": "stream",
          "name": "stdout",
          "text": [
            "pho,sushi,sashimi,spaghetti,Paella\n"
          ]
        }
      ]
    },
    {
      "cell_type": "markdown",
      "source": [
        "We also can transform string to list by spliting our string to on a certian value:"
      ],
      "metadata": {
        "id": "7GIBcu4UvHoh"
      }
    },
    {
      "cell_type": "code",
      "source": [
        "new_list= fav_food_str.split(',')\n",
        "\n",
        "print(new_list)"
      ],
      "metadata": {
        "colab": {
          "base_uri": "https://localhost:8080/"
        },
        "id": "7mvSVmkevQWu",
        "outputId": "e0b8a6df-755a-4c35-9b0a-551324d2717d"
      },
      "execution_count": null,
      "outputs": [
        {
          "output_type": "stream",
          "name": "stdout",
          "text": [
            "['pho', 'sushi', 'sashimi', 'spaghetti', 'Paella']\n"
          ]
        }
      ]
    },
    {
      "cell_type": "markdown",
      "source": [
        "# **g) Create an empty list:**\n",
        "\n"
      ],
      "metadata": {
        "id": "4-xwSUCV6XDP"
      }
    },
    {
      "cell_type": "code",
      "source": [
        "empty_list=[] # method 1\n",
        "print(empty_list)"
      ],
      "metadata": {
        "colab": {
          "base_uri": "https://localhost:8080/"
        },
        "id": "w8WKC0Xd6z_m",
        "outputId": "98dde4ec-c58d-4ff0-b358-65619802acd3"
      },
      "execution_count": null,
      "outputs": [
        {
          "output_type": "stream",
          "name": "stdout",
          "text": [
            "[]\n"
          ]
        }
      ]
    },
    {
      "cell_type": "code",
      "source": [
        "empty_list= list() #method 2\n",
        "print(empty_list)"
      ],
      "metadata": {
        "colab": {
          "base_uri": "https://localhost:8080/"
        },
        "id": "aCBZ43QC6-JG",
        "outputId": "f948757b-16a2-4091-dfd0-db509c002bdc"
      },
      "execution_count": null,
      "outputs": [
        {
          "output_type": "stream",
          "name": "stdout",
          "text": [
            "[]\n"
          ]
        }
      ]
    },
    {
      "cell_type": "markdown",
      "source": [
        "# **2. TUPLES:**\n",
        "\n",
        "* Tuples are ordered and immutable collections of items enclosed in parentheses ().\n",
        "* They are similar to lists, but once created, the elements cannot be modified.\n",
        "* Tuples can contain elements of different data types, just like lists.\n",
        "* Tuples are commonly used for representing fixed collections of values, such as coordinates or settings.\n"
      ],
      "metadata": {
        "id": "t1kooBgkwJPv"
      }
    },
    {
      "cell_type": "code",
      "source": [
        "tuple1= ('pho','sushi','sashimi','spaghetti','Paella') # tuple look like a list but instead of the square bracket we use () bracket \n",
        "tuple2= tuple1 # we're setting tuple 2 is equal tuple 1\n",
        "\n",
        "print(tuple1)\n",
        "print(tuple2)"
      ],
      "metadata": {
        "colab": {
          "base_uri": "https://localhost:8080/"
        },
        "id": "pKeh3q1twMpL",
        "outputId": "1f9a6ce6-5d5b-42cf-82b6-f1bfc546e17a"
      },
      "execution_count": null,
      "outputs": [
        {
          "output_type": "stream",
          "name": "stdout",
          "text": [
            "('pho', 'sushi', 'sashimi', 'spaghetti', 'Paella')\n",
            "('pho', 'sushi', 'sashimi', 'spaghetti', 'Paella')\n"
          ]
        }
      ]
    },
    {
      "cell_type": "markdown",
      "source": [
        "Now if we we change the value of tuple 1 by adding one more element to the tuple:"
      ],
      "metadata": {
        "id": "xXvrJrPnxxOd"
      }
    },
    {
      "cell_type": "markdown",
      "source": [
        "# **a) Immutate Tuple**"
      ],
      "metadata": {
        "id": "WmgCg5Ky7Mwi"
      }
    },
    {
      "cell_type": "code",
      "source": [
        "tuple1[0]= 'bimbimbap'\n",
        "\n"
      ],
      "metadata": {
        "colab": {
          "base_uri": "https://localhost:8080/",
          "height": 181
        },
        "id": "qr28rOnPxlma",
        "outputId": "2cbb113e-9862-4008-e335-0057eacfc047"
      },
      "execution_count": null,
      "outputs": [
        {
          "output_type": "error",
          "ename": "TypeError",
          "evalue": "ignored",
          "traceback": [
            "\u001b[0;31m---------------------------------------------------------------------------\u001b[0m",
            "\u001b[0;31mTypeError\u001b[0m                                 Traceback (most recent call last)",
            "\u001b[0;32m<ipython-input-53-621b7b3995e4>\u001b[0m in \u001b[0;36m<cell line: 1>\u001b[0;34m()\u001b[0m\n\u001b[0;32m----> 1\u001b[0;31m \u001b[0mtuple1\u001b[0m\u001b[0;34m[\u001b[0m\u001b[0;36m0\u001b[0m\u001b[0;34m]\u001b[0m\u001b[0;34m=\u001b[0m \u001b[0;34m'bimbimbap'\u001b[0m\u001b[0;34m\u001b[0m\u001b[0;34m\u001b[0m\u001b[0m\n\u001b[0m\u001b[1;32m      2\u001b[0m \u001b[0;34m\u001b[0m\u001b[0m\n",
            "\u001b[0;31mTypeError\u001b[0m: 'tuple' object does not support item assignment"
          ]
        }
      ]
    },
    {
      "cell_type": "markdown",
      "source": [
        "We got got error because **tuples are immutable, you cannot assign a new value to an element.**\n",
        "\n",
        "Tuple is immutable, it doesn't have as many method as list. we can't add, remove or append anything from tuple. But rather than that, they behaves the same like list.\n"
      ],
      "metadata": {
        "id": "2JhNA7tAy-RL"
      }
    },
    {
      "cell_type": "markdown",
      "source": [],
      "metadata": {
        "id": "Y5FzrkXV7IWb"
      }
    },
    {
      "cell_type": "markdown",
      "source": [
        "# **b)Create Empty Tuple**"
      ],
      "metadata": {
        "id": "dFcQTCl-7Twb"
      }
    },
    {
      "cell_type": "code",
      "source": [
        "empty_tuple= () # method 1\n",
        "\n",
        "print(empty_tuple)"
      ],
      "metadata": {
        "colab": {
          "base_uri": "https://localhost:8080/"
        },
        "id": "EeU5HXdSyLjt",
        "outputId": "e22c299a-ce53-469c-be58-681ec246be9a"
      },
      "execution_count": null,
      "outputs": [
        {
          "output_type": "stream",
          "name": "stdout",
          "text": [
            "()\n"
          ]
        }
      ]
    },
    {
      "cell_type": "code",
      "source": [
        "empty_tuple = tuple()\n",
        "print(empty_tuple)"
      ],
      "metadata": {
        "colab": {
          "base_uri": "https://localhost:8080/"
        },
        "id": "ES7XCBfz71d4",
        "outputId": "3ffcdb92-bc89-4e2b-d018-658352b73a90"
      },
      "execution_count": null,
      "outputs": [
        {
          "output_type": "stream",
          "name": "stdout",
          "text": [
            "()\n"
          ]
        }
      ]
    },
    {
      "cell_type": "markdown",
      "source": [],
      "metadata": {
        "id": "k0aKX-S576QP"
      }
    },
    {
      "cell_type": "markdown",
      "source": [
        "# **3)SET:**\n",
        "\n",
        "\n",
        "* Sets are unordered collections of unique elements enclosed in curly braces {}.\n",
        "* They do not allow duplicate values, and the order of elements is not guaranteed.\n",
        "* Sets are primarily used for membership testing and eliminating duplicates from a sequence.\n",
        "* Sets support various operations such as union, intersection, and difference."
      ],
      "metadata": {
        "id": "n7aNREVvz30h"
      }
    },
    {
      "cell_type": "code",
      "source": [
        "fav_food= {'pho','sushi','sashimi','spaghetti','Paella'} # set looks similar like list or tuple but instead of the square bracket or parentheses, it uses curly braces\n",
        "\n",
        "print(fav_food)"
      ],
      "metadata": {
        "colab": {
          "base_uri": "https://localhost:8080/"
        },
        "id": "nFtv4UGSz6r7",
        "outputId": "5416e857-fa86-468a-9687-bcf970f8fe74"
      },
      "execution_count": null,
      "outputs": [
        {
          "output_type": "stream",
          "name": "stdout",
          "text": [
            "{'sashimi', 'spaghetti', 'sushi', 'Paella', 'pho'}\n"
          ]
        }
      ]
    },
    {
      "cell_type": "markdown",
      "source": [
        "We can see in the print result the order of each element changes to compare with theirs order in the original tuple. \n",
        "\n",
        "The reason for this is unlike list or tuple, set don't really care about order. The main use for the set is either to test whether the value is part of a set and also remove duplicated value (if any), because set delete all duplicates.\n",
        "\n"
      ],
      "metadata": {
        "id": "eB5mENss1TWI"
      }
    },
    {
      "cell_type": "markdown",
      "source": [
        "#**a) Remove duplicated value:**"
      ],
      "metadata": {
        "id": "jmsi6Wmq2uPt"
      }
    },
    {
      "cell_type": "code",
      "source": [
        "fav_food= {'pho','sushi','sashimi','spaghetti','Paella','pho'}# we add one more 'pho'value to the tuple and now print the tuple\n",
        "\n",
        "print(fav_food)"
      ],
      "metadata": {
        "colab": {
          "base_uri": "https://localhost:8080/"
        },
        "id": "JRg6oLJ_1Mb7",
        "outputId": "9a902b4f-9711-4a43-d2aa-b7710a6cd704"
      },
      "execution_count": null,
      "outputs": [
        {
          "output_type": "stream",
          "name": "stdout",
          "text": [
            "{'sashimi', 'spaghetti', 'sushi', 'Paella', 'pho'}\n"
          ]
        }
      ]
    },
    {
      "cell_type": "markdown",
      "source": [
        "We can see tuple delete the duplicated 'pho'"
      ],
      "metadata": {
        "id": "4cvQoOej2mdI"
      }
    },
    {
      "cell_type": "markdown",
      "source": [
        "#**b) Membership test**:"
      ],
      "metadata": {
        "id": "cwaVYgTk23-W"
      }
    },
    {
      "cell_type": "code",
      "source": [
        "fav_food= {'pho','sushi','sashimi','spaghetti','Paella'}\n",
        "\n",
        "print('pho'in fav_food) # we test whether 'pho' is in the tuple"
      ],
      "metadata": {
        "colab": {
          "base_uri": "https://localhost:8080/"
        },
        "id": "v63KW99D2nuF",
        "outputId": "15554bf0-50c9-45ca-d56f-23a4270bb894"
      },
      "execution_count": null,
      "outputs": [
        {
          "output_type": "stream",
          "name": "stdout",
          "text": [
            "True\n"
          ]
        }
      ]
    },
    {
      "cell_type": "code",
      "source": [
        "fav_food= {'pho','sushi','sashimi','spaghetti','Paella'}\n",
        "\n",
        "print('spring roll'in fav_food) # we test whether 'spring roll' is in the tuple"
      ],
      "metadata": {
        "colab": {
          "base_uri": "https://localhost:8080/"
        },
        "id": "CCLiT77I3acP",
        "outputId": "e5290cfc-ad03-4242-fcb1-36a9e829748e"
      },
      "execution_count": null,
      "outputs": [
        {
          "output_type": "stream",
          "name": "stdout",
          "text": [
            "False\n"
          ]
        }
      ]
    },
    {
      "cell_type": "markdown",
      "source": [
        "## **c) What Value is shared with other set:**"
      ],
      "metadata": {
        "id": "r7OBEVSP30xX"
      }
    },
    {
      "cell_type": "code",
      "source": [
        "fav_food1= {'pho','sushi','sashimi','spaghetti','Paella'}\n",
        "fav_food2= {'pho','spring roll','sushi','wonton soup'} # we have two sets of favorite food, some of them have different fav food, some of them share the same fav food\n",
        "\n",
        "# now we would like to know which foods these set have in common so to do it, we use intersection method:\n",
        "\n",
        "print(fav_food1.intersection(fav_food2))"
      ],
      "metadata": {
        "colab": {
          "base_uri": "https://localhost:8080/"
        },
        "id": "IUfAcNgE4Wcm",
        "outputId": "e1c55dc1-954e-466f-e1d4-f41a7f931157"
      },
      "execution_count": null,
      "outputs": [
        {
          "output_type": "stream",
          "name": "stdout",
          "text": [
            "{'sushi', 'pho'}\n"
          ]
        }
      ]
    },
    {
      "cell_type": "code",
      "source": [
        "# if we want to see which food is in the fav_food1 but not is the fav_food2, we use difference method:\n",
        "fav_food1= {'pho','sushi','sashimi','spaghetti','Paella'}\n",
        "fav_food2= {'pho','spring roll','sushi','wonton soup'} \n",
        "\n",
        "print(fav_food1.difference(fav_food2))"
      ],
      "metadata": {
        "colab": {
          "base_uri": "https://localhost:8080/"
        },
        "id": "dAZDZ-kq5OdN",
        "outputId": "910adfcc-ec74-4b4b-8579-5158b4c310a2"
      },
      "execution_count": null,
      "outputs": [
        {
          "output_type": "stream",
          "name": "stdout",
          "text": [
            "{'spaghetti', 'Paella', 'sashimi'}\n"
          ]
        }
      ]
    },
    {
      "cell_type": "code",
      "source": [
        "# now if we want to combine the favorite foods in both set and print them out, we use union method:\n",
        "fav_food1= {'pho','sushi','sashimi','spaghetti','Paella'}\n",
        "fav_food2= {'pho','spring roll','sushi','wonton soup'} \n",
        "\n",
        "print(fav_food1.union(fav_food2))"
      ],
      "metadata": {
        "colab": {
          "base_uri": "https://localhost:8080/"
        },
        "id": "aWx_ditJ5jmu",
        "outputId": "1a5a59f8-99bf-4b09-e090-0a04a2cf3b9b"
      },
      "execution_count": null,
      "outputs": [
        {
          "output_type": "stream",
          "name": "stdout",
          "text": [
            "{'spring roll', 'sashimi', 'spaghetti', 'Paella', 'pho', 'wonton soup', 'sushi'}\n"
          ]
        }
      ]
    },
    {
      "cell_type": "code",
      "source": [],
      "metadata": {
        "id": "t9bopV5x5y9-"
      },
      "execution_count": null,
      "outputs": []
    },
    {
      "cell_type": "markdown",
      "source": [
        "# **d) Create Empty Set**"
      ],
      "metadata": {
        "id": "wpPz85us77sf"
      }
    },
    {
      "cell_type": "code",
      "source": [
        "empty_set=set()\n",
        "print(empty_set)"
      ],
      "metadata": {
        "colab": {
          "base_uri": "https://localhost:8080/"
        },
        "id": "q0xOCLQa8C4k",
        "outputId": "20d0255e-c118-4898-be79-a49652b42b54"
      },
      "execution_count": null,
      "outputs": [
        {
          "output_type": "stream",
          "name": "stdout",
          "text": [
            "set()\n"
          ]
        }
      ]
    },
    {
      "cell_type": "code",
      "source": [],
      "metadata": {
        "id": "K8jmZxT-8Gui"
      },
      "execution_count": null,
      "outputs": []
    }
  ]
}